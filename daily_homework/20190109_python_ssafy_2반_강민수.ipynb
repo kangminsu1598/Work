{
 "cells": [
  {
   "cell_type": "markdown",
   "metadata": {},
   "source": [
    "- 양의 정수 x를 입력받아 제곱근의 근사값의 결과를 반환하는 함수를 작성하세요"
   ]
  },
  {
   "cell_type": "code",
   "execution_count": 27,
   "metadata": {},
   "outputs": [],
   "source": [
    "def my_approximate(x):\n",
    "    \n",
    "    my_min = x / 2\n",
    "    my_max = x\n",
    "    \n",
    "    while (my_max - my_min) > 0.00000001:\n",
    "        mid = (my_min + my_max)/2\n",
    "        if mid**2 > x:\n",
    "            my_max = mid\n",
    "        else:\n",
    "            my_min = mid\n",
    "        print(mid)\n",
    "    return mid\n",
    "    \n"
   ]
  },
  {
   "cell_type": "code",
   "execution_count": 28,
   "metadata": {},
   "outputs": [
    {
     "name": "stdout",
     "output_type": "stream",
     "text": [
      "2.25\n",
      "1.875\n",
      "1.6875\n",
      "1.78125\n",
      "1.734375\n",
      "1.7109375\n",
      "1.72265625\n",
      "1.728515625\n",
      "1.7314453125\n",
      "1.73291015625\n",
      "1.732177734375\n",
      "1.7318115234375\n",
      "1.73199462890625\n",
      "1.732086181640625\n",
      "1.7320404052734375\n",
      "1.7320632934570312\n",
      "1.7320518493652344\n",
      "1.732046127319336\n",
      "1.7320489883422852\n",
      "1.7320504188537598\n",
      "1.732051134109497\n",
      "1.7320507764816284\n",
      "1.7320509552955627\n",
      "1.7320508658885956\n",
      "1.732050821185112\n",
      "1.7320507988333702\n",
      "1.732050810009241\n",
      "1.7320508044213057\n"
     ]
    },
    {
     "data": {
      "text/plain": [
       "1.7320508044213057"
      ]
     },
     "execution_count": 28,
     "metadata": {},
     "output_type": "execute_result"
    }
   ],
   "source": [
    "my_approximate(3)"
   ]
  },
  {
   "cell_type": "code",
   "execution_count": null,
   "metadata": {},
   "outputs": [],
   "source": []
  }
 ],
 "metadata": {
  "kernelspec": {
   "display_name": "Python 3",
   "language": "python",
   "name": "python3"
  },
  "language_info": {
   "codemirror_mode": {
    "name": "ipython",
    "version": 3
   },
   "file_extension": ".py",
   "mimetype": "text/x-python",
   "name": "python",
   "nbconvert_exporter": "python",
   "pygments_lexer": "ipython3",
   "version": "3.6.7"
  }
 },
 "nbformat": 4,
 "nbformat_minor": 2
}
