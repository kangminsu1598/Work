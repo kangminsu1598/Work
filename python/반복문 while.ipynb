{
 "cells": [
  {
   "cell_type": "markdown",
   "metadata": {},
   "source": [
    "# flag 사용습관 들이기"
   ]
  },
  {
   "cell_type": "code",
   "execution_count": null,
   "metadata": {},
   "outputs": [],
   "source": [
    "# flag 사용하여 루프 종료\n",
    "# quit 입력시 종료하는 루프\n",
    "\n",
    "active = True # flag : active\n",
    "while active:\n",
    "    data = input('문자를 입력하세요')\n",
    "    if data == 'quit':\n",
    "        active = False\n",
    "    else:\n",
    "        print(f'입력문자는 {data}입니다')\n",
    "    "
   ]
  },
  {
   "cell_type": "code",
   "execution_count": null,
   "metadata": {},
   "outputs": [],
   "source": [
    "# continue\n",
    "# 1부터 10까지 숫자 중 홀수만 출력하는 루프\n",
    "num = 0\n",
    "while num < 10:\n",
    "    num += 1\n",
    "    if num % 2 == 0:\n",
    "        continue\n",
    "        \n",
    "    print(num)"
   ]
  },
  {
   "cell_type": "code",
   "execution_count": null,
   "metadata": {},
   "outputs": [],
   "source": [
    "# 이름과 응답을 딕셔너리로 저장. 추가 응답이 없으면 종료 루프\n",
    "\n",
    "responses = {}\n",
    "active = True\n",
    "while active:\n",
    "    name = input('이름을 입력하세요')\n",
    "    response = input('어디에 사나요')\n",
    "    responses[name] = response\n",
    "    repeat = input('추가 응답 여부 (yes or no)')\n",
    "    if repeat == 'no':\n",
    "        active = False\n",
    "for name, response in responses.items():\n",
    "    print(f'{name}은 {response}에 삽니다.')\n",
    "   \n"
   ]
  },
  {
   "cell_type": "code",
   "execution_count": null,
   "metadata": {},
   "outputs": [],
   "source": [
    "print(responses) "
   ]
  },
  {
   "cell_type": "code",
   "execution_count": null,
   "metadata": {},
   "outputs": [],
   "source": []
  }
 ],
 "metadata": {
  "kernelspec": {
   "display_name": "Python 3",
   "language": "python",
   "name": "python3"
  },
  "language_info": {
   "codemirror_mode": {
    "name": "ipython",
    "version": 3
   },
   "file_extension": ".py",
   "mimetype": "text/x-python",
   "name": "python",
   "nbconvert_exporter": "python",
   "pygments_lexer": "ipython3",
   "version": "3.6.5"
  }
 },
 "nbformat": 4,
 "nbformat_minor": 2
}
